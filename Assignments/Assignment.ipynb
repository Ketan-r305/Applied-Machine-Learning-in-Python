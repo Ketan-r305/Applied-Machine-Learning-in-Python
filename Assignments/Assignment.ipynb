{
 "cells": [
  {
   "cell_type": "code",
   "execution_count": 1,
   "metadata": {},
   "outputs": [],
   "source": [
    "import pandas as pd\n",
    "import numpy as np"
   ]
  },
  {
   "cell_type": "code",
   "execution_count": 4,
   "metadata": {},
   "outputs": [],
   "source": [
    "df_train = pd.read_csv('Datasets\\train.csv',engine = 'python')\n",
    "df_test = pd.read_csv('Datasets\\test.csv')\n",
    "df_add = pd.read_csv('Datasets\\addresses.csv').set_index('address')\n",
    "df_ll = pd.read_csv('Datasets\\latlons.csv').set_index('address')"
   ]
  },
  {
   "cell_type": "code",
   "execution_count": 16,
   "metadata": {},
   "outputs": [],
   "source": [
    "df_add = df_add.join(df_ll,how = 'left')"
   ]
  },
  {
   "cell_type": "code",
   "execution_count": 19,
   "metadata": {},
   "outputs": [],
   "source": [
    "df_add = df_add.set_index('ticket_id')"
   ]
  },
  {
   "cell_type": "code",
   "execution_count": 24,
   "metadata": {},
   "outputs": [
    {
     "data": {
      "text/plain": [
       "Index(['ticket_id', 'agency_name', 'inspector_name', 'violator_name',\n",
       "       'violation_street_number', 'violation_street_name',\n",
       "       'violation_zip_code', 'mailing_address_str_number',\n",
       "       'mailing_address_str_name', 'city', 'state', 'zip_code',\n",
       "       'non_us_str_code', 'country', 'ticket_issued_date', 'hearing_date',\n",
       "       'violation_code', 'violation_description', 'disposition', 'fine_amount',\n",
       "       'admin_fee', 'state_fee', 'late_fee', 'discount_amount',\n",
       "       'clean_up_cost', 'judgment_amount', 'payment_amount', 'balance_due',\n",
       "       'payment_date', 'payment_status', 'collection_status',\n",
       "       'grafitti_status', 'compliance_detail', 'compliance'],\n",
       "      dtype='object')"
      ]
     },
     "execution_count": 24,
     "metadata": {},
     "output_type": "execute_result"
    }
   ],
   "source": [
    "df_train.columns"
   ]
  },
  {
   "cell_type": "code",
   "execution_count": 25,
   "metadata": {},
   "outputs": [],
   "source": [
    "useless_labels = ['agency_name', 'violation_street_number', 'mailing_address_str_number', 'state', \n",
    "                'disposition', 'violator_name', 'zip_code', 'country', 'city',\n",
    "                'inspector_name', 'violation_street_name',\n",
    "                'violation_zip_code', 'violation_description', 'mailing_address_str_name',\n",
    "                'non_us_str_code',\n",
    "                'ticket_issued_date', 'hearing_date', 'violation_code', 'grafitti_status']\n",
    "\n",
    "train_leaks = [\n",
    "        'balance_due',\n",
    "        'collection_status',\n",
    "        'compliance_detail',\n",
    "        'payment_amount',\n",
    "        'payment_date',\n",
    "        'payment_status', \n",
    "    ]"
   ]
  },
  {
   "cell_type": "code",
   "execution_count": 27,
   "metadata": {},
   "outputs": [],
   "source": [
    "df_train.drop(useless_labels,inplace = True,axis = 1)\n",
    "df_test.drop(useless_labels,inplace = True,axis = 1)"
   ]
  },
  {
   "cell_type": "code",
   "execution_count": 29,
   "metadata": {},
   "outputs": [],
   "source": [
    "df_train = df_train[(df_train.compliance == 1.0) | (df_train.compliance == 0.0)]"
   ]
  },
  {
   "cell_type": "code",
   "execution_count": 31,
   "metadata": {},
   "outputs": [
    {
     "name": "stderr",
     "output_type": "stream",
     "text": [
      "c:\\python\\python38\\lib\\site-packages\\pandas\\core\\frame.py:4110: SettingWithCopyWarning: \n",
      "A value is trying to be set on a copy of a slice from a DataFrame\n",
      "\n",
      "See the caveats in the documentation: http://pandas.pydata.org/pandas-docs/stable/user_guide/indexing.html#returning-a-view-versus-a-copy\n",
      "  return super().drop(\n"
     ]
    }
   ],
   "source": [
    "df_train.drop(train_leaks,inplace = True,axis = 1)"
   ]
  },
  {
   "cell_type": "code",
   "execution_count": 33,
   "metadata": {},
   "outputs": [],
   "source": [
    "X_train = df_train.iloc[:,:-1]\n",
    "y_train = df_train.iloc[:,-1]"
   ]
  },
  {
   "cell_type": "code",
   "execution_count": 35,
   "metadata": {},
   "outputs": [],
   "source": [
    "X_train = X_train.set_index('ticket_id')"
   ]
  },
  {
   "cell_type": "code",
   "execution_count": 61,
   "metadata": {},
   "outputs": [
    {
     "data": {
      "text/html": [
       "<div>\n",
       "<style scoped>\n",
       "    .dataframe tbody tr th:only-of-type {\n",
       "        vertical-align: middle;\n",
       "    }\n",
       "\n",
       "    .dataframe tbody tr th {\n",
       "        vertical-align: top;\n",
       "    }\n",
       "\n",
       "    .dataframe thead th {\n",
       "        text-align: right;\n",
       "    }\n",
       "</style>\n",
       "<table border=\"1\" class=\"dataframe\">\n",
       "  <thead>\n",
       "    <tr style=\"text-align: right;\">\n",
       "      <th></th>\n",
       "      <th>fine_amount</th>\n",
       "      <th>admin_fee</th>\n",
       "      <th>state_fee</th>\n",
       "      <th>late_fee</th>\n",
       "      <th>discount_amount</th>\n",
       "      <th>clean_up_cost</th>\n",
       "      <th>judgment_amount</th>\n",
       "      <th>lat</th>\n",
       "      <th>lon</th>\n",
       "    </tr>\n",
       "    <tr>\n",
       "      <th>ticket_id</th>\n",
       "      <th></th>\n",
       "      <th></th>\n",
       "      <th></th>\n",
       "      <th></th>\n",
       "      <th></th>\n",
       "      <th></th>\n",
       "      <th></th>\n",
       "      <th></th>\n",
       "      <th></th>\n",
       "    </tr>\n",
       "  </thead>\n",
       "  <tbody>\n",
       "    <tr>\n",
       "      <th>22056</th>\n",
       "      <td>250.0</td>\n",
       "      <td>20.0</td>\n",
       "      <td>10.0</td>\n",
       "      <td>25.0</td>\n",
       "      <td>0.0</td>\n",
       "      <td>0.0</td>\n",
       "      <td>305.0</td>\n",
       "      <td>42.390729</td>\n",
       "      <td>-83.124268</td>\n",
       "    </tr>\n",
       "    <tr>\n",
       "      <th>27586</th>\n",
       "      <td>750.0</td>\n",
       "      <td>20.0</td>\n",
       "      <td>10.0</td>\n",
       "      <td>75.0</td>\n",
       "      <td>0.0</td>\n",
       "      <td>0.0</td>\n",
       "      <td>855.0</td>\n",
       "      <td>42.326937</td>\n",
       "      <td>-83.135118</td>\n",
       "    </tr>\n",
       "    <tr>\n",
       "      <th>22046</th>\n",
       "      <td>250.0</td>\n",
       "      <td>20.0</td>\n",
       "      <td>10.0</td>\n",
       "      <td>25.0</td>\n",
       "      <td>0.0</td>\n",
       "      <td>0.0</td>\n",
       "      <td>305.0</td>\n",
       "      <td>42.145257</td>\n",
       "      <td>-83.208233</td>\n",
       "    </tr>\n",
       "    <tr>\n",
       "      <th>18738</th>\n",
       "      <td>750.0</td>\n",
       "      <td>20.0</td>\n",
       "      <td>10.0</td>\n",
       "      <td>75.0</td>\n",
       "      <td>0.0</td>\n",
       "      <td>0.0</td>\n",
       "      <td>855.0</td>\n",
       "      <td>42.433466</td>\n",
       "      <td>-83.023493</td>\n",
       "    </tr>\n",
       "    <tr>\n",
       "      <th>18735</th>\n",
       "      <td>100.0</td>\n",
       "      <td>20.0</td>\n",
       "      <td>10.0</td>\n",
       "      <td>10.0</td>\n",
       "      <td>0.0</td>\n",
       "      <td>0.0</td>\n",
       "      <td>140.0</td>\n",
       "      <td>42.388641</td>\n",
       "      <td>-83.037858</td>\n",
       "    </tr>\n",
       "    <tr>\n",
       "      <th>...</th>\n",
       "      <td>...</td>\n",
       "      <td>...</td>\n",
       "      <td>...</td>\n",
       "      <td>...</td>\n",
       "      <td>...</td>\n",
       "      <td>...</td>\n",
       "      <td>...</td>\n",
       "      <td>...</td>\n",
       "      <td>...</td>\n",
       "    </tr>\n",
       "    <tr>\n",
       "      <th>285106</th>\n",
       "      <td>200.0</td>\n",
       "      <td>20.0</td>\n",
       "      <td>10.0</td>\n",
       "      <td>20.0</td>\n",
       "      <td>0.0</td>\n",
       "      <td>0.0</td>\n",
       "      <td>250.0</td>\n",
       "      <td>42.440228</td>\n",
       "      <td>-83.154829</td>\n",
       "    </tr>\n",
       "    <tr>\n",
       "      <th>284650</th>\n",
       "      <td>1000.0</td>\n",
       "      <td>20.0</td>\n",
       "      <td>10.0</td>\n",
       "      <td>100.0</td>\n",
       "      <td>0.0</td>\n",
       "      <td>0.0</td>\n",
       "      <td>1130.0</td>\n",
       "      <td>42.406293</td>\n",
       "      <td>-83.171850</td>\n",
       "    </tr>\n",
       "    <tr>\n",
       "      <th>285125</th>\n",
       "      <td>500.0</td>\n",
       "      <td>20.0</td>\n",
       "      <td>10.0</td>\n",
       "      <td>50.0</td>\n",
       "      <td>0.0</td>\n",
       "      <td>0.0</td>\n",
       "      <td>580.0</td>\n",
       "      <td>42.366529</td>\n",
       "      <td>-83.141897</td>\n",
       "    </tr>\n",
       "    <tr>\n",
       "      <th>284881</th>\n",
       "      <td>200.0</td>\n",
       "      <td>20.0</td>\n",
       "      <td>10.0</td>\n",
       "      <td>0.0</td>\n",
       "      <td>0.0</td>\n",
       "      <td>0.0</td>\n",
       "      <td>230.0</td>\n",
       "      <td>42.422081</td>\n",
       "      <td>-83.038656</td>\n",
       "    </tr>\n",
       "    <tr>\n",
       "      <th>284333</th>\n",
       "      <td>200.0</td>\n",
       "      <td>20.0</td>\n",
       "      <td>10.0</td>\n",
       "      <td>20.0</td>\n",
       "      <td>0.0</td>\n",
       "      <td>0.0</td>\n",
       "      <td>250.0</td>\n",
       "      <td>42.438867</td>\n",
       "      <td>-82.959888</td>\n",
       "    </tr>\n",
       "  </tbody>\n",
       "</table>\n",
       "<p>159880 rows × 9 columns</p>\n",
       "</div>"
      ],
      "text/plain": [
       "           fine_amount  admin_fee  state_fee  late_fee  discount_amount  \\\n",
       "ticket_id                                                                 \n",
       "22056            250.0       20.0       10.0      25.0              0.0   \n",
       "27586            750.0       20.0       10.0      75.0              0.0   \n",
       "22046            250.0       20.0       10.0      25.0              0.0   \n",
       "18738            750.0       20.0       10.0      75.0              0.0   \n",
       "18735            100.0       20.0       10.0      10.0              0.0   \n",
       "...                ...        ...        ...       ...              ...   \n",
       "285106           200.0       20.0       10.0      20.0              0.0   \n",
       "284650          1000.0       20.0       10.0     100.0              0.0   \n",
       "285125           500.0       20.0       10.0      50.0              0.0   \n",
       "284881           200.0       20.0       10.0       0.0              0.0   \n",
       "284333           200.0       20.0       10.0      20.0              0.0   \n",
       "\n",
       "           clean_up_cost  judgment_amount        lat        lon  \n",
       "ticket_id                                                        \n",
       "22056                0.0            305.0  42.390729 -83.124268  \n",
       "27586                0.0            855.0  42.326937 -83.135118  \n",
       "22046                0.0            305.0  42.145257 -83.208233  \n",
       "18738                0.0            855.0  42.433466 -83.023493  \n",
       "18735                0.0            140.0  42.388641 -83.037858  \n",
       "...                  ...              ...        ...        ...  \n",
       "285106               0.0            250.0  42.440228 -83.154829  \n",
       "284650               0.0           1130.0  42.406293 -83.171850  \n",
       "285125               0.0            580.0  42.366529 -83.141897  \n",
       "284881               0.0            230.0  42.422081 -83.038656  \n",
       "284333               0.0            250.0  42.438867 -82.959888  \n",
       "\n",
       "[159880 rows x 9 columns]"
      ]
     },
     "execution_count": 61,
     "metadata": {},
     "output_type": "execute_result"
    }
   ],
   "source": [
    "X_train"
   ]
  },
  {
   "cell_type": "code",
   "execution_count": 56,
   "metadata": {},
   "outputs": [],
   "source": [
    "X_train = X_train.join(df_add,how = 'left')"
   ]
  },
  {
   "cell_type": "code",
   "execution_count": 63,
   "metadata": {},
   "outputs": [],
   "source": [
    "X_test = df_test"
   ]
  },
  {
   "cell_type": "code",
   "execution_count": 65,
   "metadata": {},
   "outputs": [],
   "source": [
    "X_test = X_test.set_index('ticket_id')"
   ]
  },
  {
   "cell_type": "code",
   "execution_count": 69,
   "metadata": {},
   "outputs": [
    {
     "data": {
      "text/plain": [
       "array([False])"
      ]
     },
     "execution_count": 69,
     "metadata": {},
     "output_type": "execute_result"
    }
   ],
   "source": [
    "X_test"
   ]
  },
  {
   "cell_type": "code",
   "execution_count": 70,
   "metadata": {},
   "outputs": [
    {
     "data": {
      "text/html": [
       "<div>\n",
       "<style scoped>\n",
       "    .dataframe tbody tr th:only-of-type {\n",
       "        vertical-align: middle;\n",
       "    }\n",
       "\n",
       "    .dataframe tbody tr th {\n",
       "        vertical-align: top;\n",
       "    }\n",
       "\n",
       "    .dataframe thead th {\n",
       "        text-align: right;\n",
       "    }\n",
       "</style>\n",
       "<table border=\"1\" class=\"dataframe\">\n",
       "  <thead>\n",
       "    <tr style=\"text-align: right;\">\n",
       "      <th></th>\n",
       "      <th>fine_amount</th>\n",
       "      <th>admin_fee</th>\n",
       "      <th>state_fee</th>\n",
       "      <th>late_fee</th>\n",
       "      <th>discount_amount</th>\n",
       "      <th>clean_up_cost</th>\n",
       "      <th>judgment_amount</th>\n",
       "      <th>lat</th>\n",
       "      <th>lon</th>\n",
       "    </tr>\n",
       "  </thead>\n",
       "  <tbody>\n",
       "    <tr>\n",
       "      <th>count</th>\n",
       "      <td>159880.000000</td>\n",
       "      <td>159880.0</td>\n",
       "      <td>159880.0</td>\n",
       "      <td>159880.000000</td>\n",
       "      <td>159880.000000</td>\n",
       "      <td>159880.0</td>\n",
       "      <td>159880.000000</td>\n",
       "      <td>159878.000000</td>\n",
       "      <td>159878.000000</td>\n",
       "    </tr>\n",
       "    <tr>\n",
       "      <th>mean</th>\n",
       "      <td>357.035295</td>\n",
       "      <td>20.0</td>\n",
       "      <td>10.0</td>\n",
       "      <td>33.651512</td>\n",
       "      <td>0.195959</td>\n",
       "      <td>0.0</td>\n",
       "      <td>420.650218</td>\n",
       "      <td>42.389747</td>\n",
       "      <td>-83.111530</td>\n",
       "    </tr>\n",
       "    <tr>\n",
       "      <th>std</th>\n",
       "      <td>675.655580</td>\n",
       "      <td>0.0</td>\n",
       "      <td>0.0</td>\n",
       "      <td>67.692916</td>\n",
       "      <td>4.290344</td>\n",
       "      <td>0.0</td>\n",
       "      <td>742.555062</td>\n",
       "      <td>0.037120</td>\n",
       "      <td>0.093515</td>\n",
       "    </tr>\n",
       "    <tr>\n",
       "      <th>min</th>\n",
       "      <td>0.000000</td>\n",
       "      <td>20.0</td>\n",
       "      <td>10.0</td>\n",
       "      <td>0.000000</td>\n",
       "      <td>0.000000</td>\n",
       "      <td>0.0</td>\n",
       "      <td>0.000000</td>\n",
       "      <td>42.145257</td>\n",
       "      <td>-84.403766</td>\n",
       "    </tr>\n",
       "    <tr>\n",
       "      <th>25%</th>\n",
       "      <td>200.000000</td>\n",
       "      <td>20.0</td>\n",
       "      <td>10.0</td>\n",
       "      <td>10.000000</td>\n",
       "      <td>0.000000</td>\n",
       "      <td>0.0</td>\n",
       "      <td>250.000000</td>\n",
       "      <td>42.364536</td>\n",
       "      <td>-83.185854</td>\n",
       "    </tr>\n",
       "    <tr>\n",
       "      <th>50%</th>\n",
       "      <td>250.000000</td>\n",
       "      <td>20.0</td>\n",
       "      <td>10.0</td>\n",
       "      <td>25.000000</td>\n",
       "      <td>0.000000</td>\n",
       "      <td>0.0</td>\n",
       "      <td>305.000000</td>\n",
       "      <td>42.392575</td>\n",
       "      <td>-83.124521</td>\n",
       "    </tr>\n",
       "    <tr>\n",
       "      <th>75%</th>\n",
       "      <td>250.000000</td>\n",
       "      <td>20.0</td>\n",
       "      <td>10.0</td>\n",
       "      <td>25.000000</td>\n",
       "      <td>0.000000</td>\n",
       "      <td>0.0</td>\n",
       "      <td>305.000000</td>\n",
       "      <td>42.419160</td>\n",
       "      <td>-83.033202</td>\n",
       "    </tr>\n",
       "    <tr>\n",
       "      <th>max</th>\n",
       "      <td>10000.000000</td>\n",
       "      <td>20.0</td>\n",
       "      <td>10.0</td>\n",
       "      <td>1000.000000</td>\n",
       "      <td>350.000000</td>\n",
       "      <td>0.0</td>\n",
       "      <td>11030.000000</td>\n",
       "      <td>44.785389</td>\n",
       "      <td>-82.512936</td>\n",
       "    </tr>\n",
       "  </tbody>\n",
       "</table>\n",
       "</div>"
      ],
      "text/plain": [
       "         fine_amount  admin_fee  state_fee       late_fee  discount_amount  \\\n",
       "count  159880.000000   159880.0   159880.0  159880.000000    159880.000000   \n",
       "mean      357.035295       20.0       10.0      33.651512         0.195959   \n",
       "std       675.655580        0.0        0.0      67.692916         4.290344   \n",
       "min         0.000000       20.0       10.0       0.000000         0.000000   \n",
       "25%       200.000000       20.0       10.0      10.000000         0.000000   \n",
       "50%       250.000000       20.0       10.0      25.000000         0.000000   \n",
       "75%       250.000000       20.0       10.0      25.000000         0.000000   \n",
       "max     10000.000000       20.0       10.0    1000.000000       350.000000   \n",
       "\n",
       "       clean_up_cost  judgment_amount            lat            lon  \n",
       "count       159880.0    159880.000000  159878.000000  159878.000000  \n",
       "mean             0.0       420.650218      42.389747     -83.111530  \n",
       "std              0.0       742.555062       0.037120       0.093515  \n",
       "min              0.0         0.000000      42.145257     -84.403766  \n",
       "25%              0.0       250.000000      42.364536     -83.185854  \n",
       "50%              0.0       305.000000      42.392575     -83.124521  \n",
       "75%              0.0       305.000000      42.419160     -83.033202  \n",
       "max              0.0     11030.000000      44.785389     -82.512936  "
      ]
     },
     "execution_count": 70,
     "metadata": {},
     "output_type": "execute_result"
    }
   ],
   "source": [
    "X_train.describe()"
   ]
  },
  {
   "cell_type": "code",
   "execution_count": 72,
   "metadata": {},
   "outputs": [],
   "source": [
    "from sklearn.linear_model import LogisticRegression\n",
    "from sklearn.model_selection import GridSearchCV\n",
    "from sklearn.preprocessing import MinMaxScaler\n",
    "from sklearn.metrics import roc_auc_score"
   ]
  },
  {
   "cell_type": "code",
   "execution_count": 85,
   "metadata": {},
   "outputs": [],
   "source": [
    "param_grid = {'C':[0.01,0.1,1,10,100]}"
   ]
  },
  {
   "cell_type": "code",
   "execution_count": 90,
   "metadata": {},
   "outputs": [],
   "source": [
    "X_train.lat.fillna(method='pad', inplace=True)\n",
    "X_train.lon.fillna(method='pad', inplace=True)\n",
    "#X_train.state.fillna(method='pad', inplace=True)\n",
    "\n",
    "X_test.lat.fillna(method='pad', inplace=True)\n",
    "X_test.lon.fillna(method='pad', inplace=True)"
   ]
  },
  {
   "cell_type": "code",
   "execution_count": 89,
   "metadata": {},
   "outputs": [],
   "source": [
    "X_test = X_test.join(df_add,how = 'left')"
   ]
  },
  {
   "cell_type": "code",
   "execution_count": 95,
   "metadata": {},
   "outputs": [
    {
     "name": "stderr",
     "output_type": "stream",
     "text": [
      "c:\\python\\python38\\lib\\site-packages\\sklearn\\linear_model\\_logistic.py:938: ConvergenceWarning: lbfgs failed to converge (status=1):\n",
      "STOP: TOTAL NO. of ITERATIONS REACHED LIMIT.\n",
      "\n",
      "Increase the number of iterations (max_iter) or scale the data as shown in:\n",
      "    https://scikit-learn.org/stable/modules/preprocessing.html\n",
      "Please also refer to the documentation for alternative solver options:\n",
      "    https://scikit-learn.org/stable/modules/linear_model.html#logistic-regression\n",
      "  n_iter_i = _check_optimize_result(\n"
     ]
    },
    {
     "data": {
      "text/plain": [
       "GridSearchCV(cv=5, error_score=nan,\n",
       "             estimator=LogisticRegression(C=1.0, class_weight=None, dual=False,\n",
       "                                          fit_intercept=True,\n",
       "                                          intercept_scaling=1, l1_ratio=None,\n",
       "                                          max_iter=100, multi_class='auto',\n",
       "                                          n_jobs=None, penalty='l2',\n",
       "                                          random_state=None, solver='lbfgs',\n",
       "                                          tol=0.0001, verbose=0,\n",
       "                                          warm_start=False),\n",
       "             iid='deprecated', n_jobs=None,\n",
       "             param_grid={'C': [0.01, 0.1, 1, 10, 100]}, pre_dispatch='2*n_jobs',\n",
       "             refit=True, return_train_score=False, scoring='roc_auc',\n",
       "             verbose=0)"
      ]
     },
     "execution_count": 95,
     "metadata": {},
     "output_type": "execute_result"
    }
   ],
   "source": [
    "grid_cv = GridSearchCV(LogisticRegression(),param_grid=param_grid,cv = 5,scoring='roc_auc')\n",
    "grid_cv.fit(X_train_scaled,y_train)"
   ]
  },
  {
   "cell_type": "code",
   "execution_count": 96,
   "metadata": {},
   "outputs": [
    {
     "data": {
      "text/plain": [
       "0.7547261492238596"
      ]
     },
     "execution_count": 96,
     "metadata": {},
     "output_type": "execute_result"
    }
   ],
   "source": [
    "grid_cv.best_score_"
   ]
  },
  {
   "cell_type": "code",
   "execution_count": 93,
   "metadata": {},
   "outputs": [
    {
     "data": {
      "text/plain": [
       "{'C': 10}"
      ]
     },
     "execution_count": 93,
     "metadata": {},
     "output_type": "execute_result"
    }
   ],
   "source": [
    "grid_cv.best_params_"
   ]
  },
  {
   "cell_type": "code",
   "execution_count": 94,
   "metadata": {},
   "outputs": [],
   "source": [
    "s = MinMaxScaler()\n",
    "X_train_scaled = s.fit_transform(X_train)"
   ]
  },
  {
   "cell_type": "code",
   "execution_count": 97,
   "metadata": {},
   "outputs": [],
   "source": [
    "X_test_sclaed = s.transform(X_test)"
   ]
  },
  {
   "cell_type": "code",
   "execution_count": 105,
   "metadata": {},
   "outputs": [],
   "source": [
    "y = grid_cv.predict_proba(X_test_sclaed)[:,1]"
   ]
  },
  {
   "cell_type": "code",
   "execution_count": 106,
   "metadata": {},
   "outputs": [
    {
     "data": {
      "text/plain": [
       "array([0.06868135, 0.01156404, 0.07890853, ..., 0.08395849, 0.08395028,\n",
       "       0.11552441])"
      ]
     },
     "execution_count": 106,
     "metadata": {},
     "output_type": "execute_result"
    }
   ],
   "source": [
    "y"
   ]
  },
  {
   "cell_type": "code",
   "execution_count": 100,
   "metadata": {},
   "outputs": [],
   "source": [
    "result = X_test.index"
   ]
  },
  {
   "cell_type": "code",
   "execution_count": 101,
   "metadata": {},
   "outputs": [
    {
     "data": {
      "text/plain": [
       "Int64Index([284932, 285362, 285361, 285338, 285346, 285345, 285347, 285342,\n",
       "            285530, 284989,\n",
       "            ...\n",
       "            376482, 376480, 376479, 376481, 376483, 376496, 376497, 376499,\n",
       "            376500, 369851],\n",
       "           dtype='int64', name='ticket_id', length=61001)"
      ]
     },
     "execution_count": 101,
     "metadata": {},
     "output_type": "execute_result"
    }
   ],
   "source": [
    "result"
   ]
  },
  {
   "cell_type": "code",
   "execution_count": 102,
   "metadata": {},
   "outputs": [],
   "source": [
    "result = pd.Series??"
   ]
  },
  {
   "cell_type": "code",
   "execution_count": 107,
   "metadata": {},
   "outputs": [],
   "source": [
    "result = pd.Series(data = y,index = result)"
   ]
  },
  {
   "cell_type": "code",
   "execution_count": 108,
   "metadata": {},
   "outputs": [
    {
     "data": {
      "text/plain": [
       "ticket_id\n",
       "284932    0.068681\n",
       "285362    0.011564\n",
       "285361    0.078909\n",
       "285338    0.077714\n",
       "285346    0.095258\n",
       "            ...   \n",
       "376496    0.012702\n",
       "376497    0.012702\n",
       "376499    0.083958\n",
       "376500    0.083950\n",
       "369851    0.115524\n",
       "Length: 61001, dtype: float64"
      ]
     },
     "execution_count": 108,
     "metadata": {},
     "output_type": "execute_result"
    }
   ],
   "source": [
    "result"
   ]
  },
  {
   "cell_type": "markdown",
   "metadata": {},
   "source": [
    "## Coursera Assignment"
   ]
  },
  {
   "cell_type": "code",
   "execution_count": 109,
   "metadata": {},
   "outputs": [],
   "source": [
    "import pandas as pd\n",
    "import numpy as np\n",
    "from sklearn.linear_model import LogisticRegression\n",
    "from sklearn.model_selection import GridSearchCV\n",
    "from sklearn.preprocessing import MinMaxScaler\n",
    "from sklearn.metrics import roc_auc_score\n",
    "\n",
    "def blight_model():\n",
    "    # Your code here\n",
    "    df_train = pd.read_csv('Datasets\\train.csv',engine = 'python')\n",
    "    df_test = pd.read_csv('Datasets\\test.csv', encoding = \"ISO-8859-1\",engine='python')\n",
    "    df_add = pd.read_csv('Datasets\\addresses.csv',encoding = \"ISO-8859-1\",engine='python').set_index('address')\n",
    "    df_ll = pd.read_csv('Datasets\\latlons.csv',encoding = \"ISO-8859-1\",engine='python').set_index('address')\n",
    "    \n",
    "    \n",
    "    df_add = df_add.join(df_ll,how = 'left')\n",
    "    df_add = df_add.set_index('ticket_id')\n",
    "    \n",
    "    \n",
    "    \n",
    "    useless_labels = ['agency_name', 'violation_street_number', 'mailing_address_str_number', 'state', \n",
    "                'disposition', 'violator_name', 'zip_code', 'country', 'city',\n",
    "                'inspector_name', 'violation_street_name',\n",
    "                'violation_zip_code', 'violation_description', 'mailing_address_str_name',\n",
    "                'non_us_str_code',\n",
    "                'ticket_issued_date', 'hearing_date', 'violation_code', 'grafitti_status']\n",
    "\n",
    "    train_leaks = [\n",
    "        'balance_due',\n",
    "        'collection_status',\n",
    "        'compliance_detail',\n",
    "        'payment_amount',\n",
    "        'payment_date',\n",
    "        'payment_status', \n",
    "    ]\n",
    "    \n",
    "    \n",
    "    \n",
    "    \n",
    "    df_train.drop(useless_labels,inplace = True,axis = 1)\n",
    "    df_test.drop(useless_labels,inplace = True,axis = 1)\n",
    "    df_train = df_train[(df_train.compliance == 1.0) | (df_train.compliance == 0.0)]\n",
    "    df_train.drop(train_leaks,inplace = True,axis = 1)\n",
    "    \n",
    "    \n",
    "    X_train = df_train.iloc[:,:-1]\n",
    "    y_train = df_train.iloc[:,-1]\n",
    "    \n",
    "    \n",
    "    X_train = X_train.set_index('ticket_id')\n",
    "    \n",
    "    X_train = X_train.join(df_add,how = 'left')\n",
    "    \n",
    "    X_test = df_test\n",
    "    X_test = X_test.set_index('ticket_id')\n",
    "    X_test = X_test.join(df_add,how = 'left')\n",
    "    \n",
    "    X_train.lat.fillna(method='pad', inplace=True)\n",
    "    X_train.lon.fillna(method='pad', inplace=True)\n",
    "    X_test.lat.fillna(method='pad', inplace=True)\n",
    "    X_test.lon.fillna(method='pad', inplace=True)\n",
    "    \n",
    "    param_grid = {'C':[0.01,0.1,1,10,100]}\n",
    "    \n",
    "    s = MinMaxScaler()\n",
    "    X_train_scaled = s.fit_transform(X_train)\n",
    "    X_test_sclaed = s.transform(X_test)\n",
    "    \n",
    "    grid_cv = GridSearchCV(LogisticRegression(),param_grid=param_grid,cv = 5,scoring='roc_auc')\n",
    "    grid_cv.fit(X_train_scaled,y_train)\n",
    "    \n",
    "    y = grid_cv.predict_proba(X_test_sclaed)[:,1]\n",
    "    \n",
    "    result = X_test.index\n",
    "    \n",
    "    result = pd.Series(data = y,index = result,name = 'compliance')\n",
    "    \n",
    "    \n",
    "    return result # Your answer here"
   ]
  },
  {
   "cell_type": "code",
   "execution_count": 110,
   "metadata": {},
   "outputs": [
    {
     "name": "stderr",
     "output_type": "stream",
     "text": [
      "c:\\python\\python38\\lib\\site-packages\\sklearn\\linear_model\\_logistic.py:938: ConvergenceWarning: lbfgs failed to converge (status=1):\n",
      "STOP: TOTAL NO. of ITERATIONS REACHED LIMIT.\n",
      "\n",
      "Increase the number of iterations (max_iter) or scale the data as shown in:\n",
      "    https://scikit-learn.org/stable/modules/preprocessing.html\n",
      "Please also refer to the documentation for alternative solver options:\n",
      "    https://scikit-learn.org/stable/modules/linear_model.html#logistic-regression\n",
      "  n_iter_i = _check_optimize_result(\n"
     ]
    },
    {
     "data": {
      "text/plain": [
       "ticket_id\n",
       "284932    0.068681\n",
       "285362    0.011564\n",
       "285361    0.078909\n",
       "285338    0.077714\n",
       "285346    0.095258\n",
       "            ...   \n",
       "376496    0.012702\n",
       "376497    0.012702\n",
       "376499    0.083958\n",
       "376500    0.083950\n",
       "369851    0.115524\n",
       "Name: compliance, Length: 61001, dtype: float64"
      ]
     },
     "execution_count": 110,
     "metadata": {},
     "output_type": "execute_result"
    }
   ],
   "source": [
    "blight_model()"
   ]
  },
  {
   "cell_type": "code",
   "execution_count": 117,
   "metadata": {},
   "outputs": [
    {
     "data": {
      "text/plain": [
       "<function sklearn.metrics._classification.precision_score(y_true, y_pred, labels=None, pos_label=1, average='binary', sample_weight=None, zero_division='warn')>"
      ]
     },
     "execution_count": 117,
     "metadata": {},
     "output_type": "execute_result"
    }
   ],
   "source": [
    "from sklearn.metrics import precision_score,recall_score,precision_recall_curve\n",
    "precision_recall_curve??\n",
    "precision_score"
   ]
  },
  {
   "cell_type": "code",
   "execution_count": null,
   "metadata": {},
   "outputs": [],
   "source": [
    "from sklearn.scorer import Sc"
   ]
  }
 ],
 "metadata": {
  "kernelspec": {
   "display_name": "Python 3",
   "language": "python",
   "name": "python3"
  },
  "language_info": {
   "codemirror_mode": {
    "name": "ipython",
    "version": 3
   },
   "file_extension": ".py",
   "mimetype": "text/x-python",
   "name": "python",
   "nbconvert_exporter": "python",
   "pygments_lexer": "ipython3",
   "version": "3.8.3"
  }
 },
 "nbformat": 4,
 "nbformat_minor": 4
}
